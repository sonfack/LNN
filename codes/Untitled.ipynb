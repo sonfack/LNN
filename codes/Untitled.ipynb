{
 "cells": [
  {
   "cell_type": "code",
   "execution_count": 1,
   "id": "63663ee2",
   "metadata": {},
   "outputs": [
    {
     "ename": "TypeError",
     "evalue": "list indices must be integers or slices, not Loss",
     "output_type": "error",
     "traceback": [
      "\u001b[0;31m---------------------------------------------------------------------------\u001b[0m",
      "\u001b[0;31mTypeError\u001b[0m                                 Traceback (most recent call last)",
      "Input \u001b[0;32mIn [1]\u001b[0m, in \u001b[0;36m<cell line: 52>\u001b[0;34m()\u001b[0m\n\u001b[1;32m     44\u001b[0m model\u001b[38;5;241m.\u001b[39madd_labels({\n\u001b[1;32m     45\u001b[0m    Risk: {\n\u001b[1;32m     46\u001b[0m        (\u001b[38;5;124m'\u001b[39m\u001b[38;5;124m70\u001b[39m\u001b[38;5;124m'\u001b[39m, \u001b[38;5;124m'\u001b[39m\u001b[38;5;124m300\u001b[39m\u001b[38;5;124m'\u001b[39m): Fact\u001b[38;5;241m.\u001b[39mTRUE,\n\u001b[1;32m     47\u001b[0m        (\u001b[38;5;124m'\u001b[39m\u001b[38;5;124m30\u001b[39m\u001b[38;5;124m'\u001b[39m, \u001b[38;5;124m'\u001b[39m\u001b[38;5;124m600\u001b[39m\u001b[38;5;124m'\u001b[39m): Fact\u001b[38;5;241m.\u001b[39mFALSE,\n\u001b[1;32m     48\u001b[0m         }\n\u001b[1;32m     49\u001b[0m })\n\u001b[1;32m     51\u001b[0m \u001b[38;5;66;03m# train the model and output results\u001b[39;00m\n\u001b[0;32m---> 52\u001b[0m \u001b[43mmodel\u001b[49m\u001b[38;5;241;43m.\u001b[39;49m\u001b[43mtrain\u001b[49m\u001b[43m(\u001b[49m\u001b[43mlosses\u001b[49m\u001b[38;5;241;43m=\u001b[39;49m\u001b[43mLoss\u001b[49m\u001b[38;5;241;43m.\u001b[39;49m\u001b[43mSUPERVISED\u001b[49m\u001b[43m)\u001b[49m\n\u001b[1;32m     53\u001b[0m model\u001b[38;5;241m.\u001b[39mprint(params\u001b[38;5;241m=\u001b[39m\u001b[38;5;28;01mTrue\u001b[39;00m)\n",
      "File \u001b[0;32m~/anaconda3/envs/lnn/lib/python3.9/site-packages/lnn/model.py:667\u001b[0m, in \u001b[0;36mModel.train\u001b[0;34m(self, losses, **kwds)\u001b[0m\n\u001b[1;32m    665\u001b[0m \u001b[38;5;28mself\u001b[39m\u001b[38;5;241m.\u001b[39mincrement_param_history(kwds\u001b[38;5;241m.\u001b[39mget(\u001b[38;5;124m\"\u001b[39m\u001b[38;5;124mparameter_history\u001b[39m\u001b[38;5;124m\"\u001b[39m))\n\u001b[1;32m    666\u001b[0m _, facts_inferred \u001b[38;5;241m=\u001b[39m \u001b[38;5;28mself\u001b[39m\u001b[38;5;241m.\u001b[39minfer(\u001b[38;5;241m*\u001b[39m\u001b[38;5;241m*\u001b[39mkwds)\n\u001b[0;32m--> 667\u001b[0m loss_fn \u001b[38;5;241m=\u001b[39m \u001b[38;5;28;43mself\u001b[39;49m\u001b[38;5;241;43m.\u001b[39;49m\u001b[43mloss_fn\u001b[49m\u001b[43m(\u001b[49m\u001b[43mlosses\u001b[49m\u001b[43m)\u001b[49m\n\u001b[1;32m    668\u001b[0m loss \u001b[38;5;241m=\u001b[39m \u001b[38;5;28msum\u001b[39m(loss_fn)\n\u001b[1;32m    669\u001b[0m \u001b[38;5;28;01mif\u001b[39;00m \u001b[38;5;129;01mnot\u001b[39;00m loss\u001b[38;5;241m.\u001b[39mgrad_fn:\n",
      "File \u001b[0;32m~/anaconda3/envs/lnn/lib/python3.9/site-packages/lnn/model.py:741\u001b[0m, in \u001b[0;36mModel.loss_fn\u001b[0;34m(self, losses)\u001b[0m\n\u001b[1;32m    737\u001b[0m         result\u001b[38;5;241m.\u001b[39mappend(coalesce)\n\u001b[1;32m    738\u001b[0m \u001b[38;5;28;01melse\u001b[39;00m:\n\u001b[1;32m    739\u001b[0m     kwds \u001b[38;5;241m=\u001b[39m (\n\u001b[1;32m    740\u001b[0m         losses[loss]\n\u001b[0;32m--> 741\u001b[0m         \u001b[38;5;28;01mif\u001b[39;00m (\u001b[38;5;28misinstance\u001b[39m(\u001b[43mlosses\u001b[49m\u001b[43m[\u001b[49m\u001b[43mloss\u001b[49m\u001b[43m]\u001b[49m, \u001b[38;5;28mdict\u001b[39m))\n\u001b[1;32m    742\u001b[0m         \u001b[38;5;28;01melse\u001b[39;00m ({\u001b[38;5;124m\"\u001b[39m\u001b[38;5;124mcoeff\u001b[39m\u001b[38;5;124m\"\u001b[39m: losses[loss]})\n\u001b[1;32m    743\u001b[0m     )\n\u001b[1;32m    744\u001b[0m     result\u001b[38;5;241m.\u001b[39mappend(\n\u001b[1;32m    745\u001b[0m         \u001b[38;5;28mself\u001b[39m\u001b[38;5;241m.\u001b[39m_traverse_execute(\u001b[38;5;124mf\u001b[39m\u001b[38;5;124m\"\u001b[39m\u001b[38;5;124m_\u001b[39m\u001b[38;5;132;01m{\u001b[39;00mloss\u001b[38;5;241m.\u001b[39mvalue\u001b[38;5;241m.\u001b[39mlower()\u001b[38;5;132;01m}\u001b[39;00m\u001b[38;5;124m_loss\u001b[39m\u001b[38;5;124m\"\u001b[39m, \u001b[38;5;241m*\u001b[39m\u001b[38;5;241m*\u001b[39mkwds)\n\u001b[1;32m    746\u001b[0m     )\n\u001b[1;32m    747\u001b[0m \u001b[38;5;28;01mif\u001b[39;00m result[\u001b[38;5;241m-\u001b[39m\u001b[38;5;241m1\u001b[39m]:\n",
      "\u001b[0;31mTypeError\u001b[0m: list indices must be integers or slices, not Loss"
     ]
    }
   ],
   "source": [
    "from lnn import And, Loss, Implies, Or,  Equivalent, Fact, Predicates, Model, Variables, World\n",
    "# This example is to learn a model for loan risk.\n",
    "\n",
    "# A person is at risk if he is more than 60 years old and has less than $400 in income \n",
    "\n",
    "model = Model() \n",
    "AgeGreat60 = Predicates('AgeGreat60')\n",
    "IncomeLess400 = Predicates('IncomeLessthan400') \n",
    "Risk = Predicates('Risk', arity=2)\n",
    "\n",
    "# Variables\n",
    "x = Variables('x')\n",
    "y = Variables('y')\n",
    "z = Variables('z')\n",
    "\n",
    "# Risk(x,y) <---- AgeGreat60(x) AND IncomeLess400(y)\n",
    "\n",
    "Root = Implies(Risk(x,y), And(AgeGreat60(x), IncomeLess400(y)))\n",
    "\n",
    "formulae = [\n",
    "    Root\n",
    "]\n",
    "model.add_knowledge(*formulae, world=World.OPEN)\n",
    "#model.add_knowledge(Root)\n",
    "\n",
    "\n",
    "# Data\n",
    "model.add_data({\n",
    "    AgeGreat60: {\n",
    "        ('70'): Fact.TRUE,\n",
    "        ('30'): Fact.FALSE,\n",
    "        ('20'): Fact.FALSE,\n",
    "        },\n",
    "    IncomeLess400: {\n",
    "        ('300'): Fact.TRUE,\n",
    "        ('600'): Fact.FALSE,\n",
    "        },\n",
    "    Risk: {\n",
    "       ('70', '300'): Fact.TRUE,\n",
    "       ('30', '600'): Fact.FALSE,\n",
    "       ('60', '500'): (0.6, 0.2),\n",
    "       ('65', '450'): (0.8, 1)\n",
    "        }\n",
    "    })\n",
    "\n",
    "\n",
    "model.add_labels({\n",
    "   Risk: {\n",
    "       ('70', '300'): Fact.TRUE,\n",
    "       ('30', '600'): Fact.FALSE,\n",
    "        }\n",
    "})\n",
    "\n",
    "# train the model and output results\n",
    "model.train(losses=[Loss.SUPERVISED])\n",
    "model.print(params=True)\n",
    "\n",
    "\n",
    "#model.print()\n",
    "#model.infer()\n",
    "#model.print()\n",
    "\n"
   ]
  },
  {
   "cell_type": "code",
   "execution_count": null,
   "id": "c8da5c8c",
   "metadata": {},
   "outputs": [],
   "source": []
  }
 ],
 "metadata": {
  "kernelspec": {
   "display_name": "Python 3",
   "language": "python",
   "name": "python3"
  },
  "language_info": {
   "codemirror_mode": {
    "name": "ipython",
    "version": 3
   },
   "file_extension": ".py",
   "mimetype": "text/x-python",
   "name": "python",
   "nbconvert_exporter": "python",
   "pygments_lexer": "ipython3",
   "version": "3.9.12"
  }
 },
 "nbformat": 4,
 "nbformat_minor": 5
}
