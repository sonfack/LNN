{
 "cells": [
  {
   "cell_type": "code",
   "execution_count": 1,
   "id": "58a6dad9",
   "metadata": {},
   "outputs": [
    {
     "data": {
      "text/plain": [
       "3"
      ]
     },
     "execution_count": 1,
     "metadata": {},
     "output_type": "execute_result"
    }
   ],
   "source": [
    "import math\n",
    "def solution(X, Y, D):\n",
    "    if X in range(1, pow(10, 9)+1) and Y in range(1, pow(10, 9)+1) and D in range(1, pow(10, 9)+1):\n",
    "        if X <= Y:\n",
    "            return math.ceil((Y-X)/D)\n",
    "\n",
    "solution(10, 85, 30)\n",
    "    "
   ]
  },
  {
   "cell_type": "code",
   "execution_count": 6,
   "id": "d805801e",
   "metadata": {},
   "outputs": [
    {
     "data": {
      "text/plain": [
       "7"
      ]
     },
     "execution_count": 6,
     "metadata": {},
     "output_type": "execute_result"
    }
   ],
   "source": [
    "def solution(A):\n",
    "    if len(A) <= pow(10, 9) and len(A) >0:\n",
    "        trouve = False\n",
    "        i = 0\n",
    "        while trouve == False:\n",
    "            if A.count(A[i]) >= 2:\n",
    "                i=i+1\n",
    "            else:\n",
    "                trouve = True\n",
    "        if i < len(A):\n",
    "            return A[i]\n",
    "\n",
    "A = [9, 3, 9, 3, 9, 7, 9]\n",
    "\n",
    "solution(A)\n"
   ]
  },
  {
   "cell_type": "code",
   "execution_count": null,
   "id": "f11bcee6",
   "metadata": {},
   "outputs": [],
   "source": []
  },
  {
   "cell_type": "code",
   "execution_count": null,
   "id": "3799fd6e",
   "metadata": {},
   "outputs": [],
   "source": []
  }
 ],
 "metadata": {
  "kernelspec": {
   "display_name": "Python 3",
   "language": "python",
   "name": "python3"
  },
  "language_info": {
   "codemirror_mode": {
    "name": "ipython",
    "version": 3
   },
   "file_extension": ".py",
   "mimetype": "text/x-python",
   "name": "python",
   "nbconvert_exporter": "python",
   "pygments_lexer": "ipython3",
   "version": "3.9.12"
  }
 },
 "nbformat": 4,
 "nbformat_minor": 5
}
